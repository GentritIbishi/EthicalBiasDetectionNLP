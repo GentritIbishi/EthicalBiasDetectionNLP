{
 "cells": [
  {
   "cell_type": "code",
   "id": "initial_id",
   "metadata": {
    "collapsed": true,
    "ExecuteTime": {
     "end_time": "2024-12-01T14:53:22.700742Z",
     "start_time": "2024-12-01T14:53:16.291804Z"
    }
   },
   "source": [
    "import tweepy\n",
    "import pandas as pd\n",
    "import os\n",
    "\n",
    "# Authentication with Twitter API\n",
    "API_KEY = \"d4Vb4u63FCHSJ30V5frQtTtxr\"\n",
    "API_SECRET = \"ZxKvWfpmY9sC4qA3SiwXb3Ukij8tqmulJIQLfLcblHYQDYi5pP\"\n",
    "BEARER_TOKEN = \"AAAAAAAAAAAAAAAAAAAAADcsxQEAAAAA1FJXhrBL%2FXo3Nlw78YC5TVO4jns%3D30eM1mRWzb9erLFlvSrqupvdS9pByR6xE530Vn6gJmK26ychGb\"\n",
    "ACCESS_TOKEN = \"1863204683898146816-RHvzL4Y6Az2IhKxa1w9yUUVeGelIYx\"\n",
    "ACCESS_SECRET = \"1r0kavn3OuHHfi5bBaK52TtoNU8VHAtM2m7SQBers34qQ\"\n",
    "\n",
    "auth = tweepy.OAuthHandler(API_KEY, API_SECRET)\n",
    "auth.set_access_token(ACCESS_TOKEN, ACCESS_SECRET)\n",
    "api = tweepy.API(auth)\n",
    "\n",
    "# Define search keywords\n",
    "general_keywords = \"Kosovo OR Kosova OR Serbia OR Serb OR Albanians OR Serbs\"\n",
    "hashtags = \"#Kosovo OR #Serbia OR #KosovoSerbia OR #KosovoConflict OR #KosovoIndependence OR #NATOKosovo OR #KosovoWar\"\n",
    "negative_keywords = \"terrorist OR occupier OR enemy OR traitor OR backward OR barbaric\"\n",
    "albanian_keywords = \"Kosova OR shqiptarë OR serbë OR pavarësi OR luftë\"\n",
    "serbian_keywords = \"Kosovo OR Srbi OR Albanci OR nezavisnost OR rat\"\n",
    "\n",
    "# Combine all keywords into a single search query\n",
    "keywords = f\"({general_keywords}) OR ({hashtags}) OR ({negative_keywords}) OR ({albanian_keywords}) OR ({serbian_keywords})\"\n",
    "\n",
    "# Search for tweets using Tweepy Cursor\n",
    "tweets = tweepy.Cursor(api.search_tweets, q=keywords, lang=\"en\", tweet_mode=\"extended\").items(100)\n",
    "\n",
    "# Store tweet data in a list\n",
    "data = [[tweet.created_at, tweet.user.screen_name, tweet.full_text] for tweet in tweets]\n",
    "\n",
    "# Create DataFrame from the list\n",
    "df = pd.DataFrame(data, columns=[\"Date\", \"User\", \"Tweet\"])\n",
    "\n",
    "# Ensure the 'dataset' directory exists, if not, create it\n",
    "output_dir = \"dataset\"\n",
    "if not os.path.exists(output_dir):\n",
    "    os.makedirs(output_dir)\n",
    "\n",
    "# Save the DataFrame to a CSV file in the 'dataset' directory\n",
    "df.to_csv(os.path.join(output_dir, \"kosovo_serbia_tweets.csv\"), index=False)\n",
    "\n",
    "# Optionally, print the first few rows of the DataFrame to verify\n",
    "print(df.head())\n"
   ],
   "outputs": [
    {
     "name": "stderr",
     "output_type": "stream",
     "text": [
      "/Users/gentritibishi/PycharmProjects/EthicalBiasDetectionNLP/.venv/lib/python3.9/site-packages/urllib3/__init__.py:35: NotOpenSSLWarning: urllib3 v2 only supports OpenSSL 1.1.1+, currently the 'ssl' module is compiled with 'LibreSSL 2.8.3'. See: https://github.com/urllib3/urllib3/issues/3020\n",
      "  warnings.warn(\n"
     ]
    },
    {
     "ename": "Forbidden",
     "evalue": "403 Forbidden\n453 - You currently have access to a subset of X API V2 endpoints and limited v1.1 endpoints (e.g. media post, oauth) only. If you need access to this endpoint, you may need a different access level. You can learn more here: https://developer.x.com/en/portal/product",
     "output_type": "error",
     "traceback": [
      "\u001B[0;31m---------------------------------------------------------------------------\u001B[0m",
      "\u001B[0;31mForbidden\u001B[0m                                 Traceback (most recent call last)",
      "Cell \u001B[0;32mIn[1], line 30\u001B[0m\n\u001B[1;32m     27\u001B[0m tweets \u001B[38;5;241m=\u001B[39m tweepy\u001B[38;5;241m.\u001B[39mCursor(api\u001B[38;5;241m.\u001B[39msearch_tweets, q\u001B[38;5;241m=\u001B[39mkeywords, lang\u001B[38;5;241m=\u001B[39m\u001B[38;5;124m\"\u001B[39m\u001B[38;5;124men\u001B[39m\u001B[38;5;124m\"\u001B[39m, tweet_mode\u001B[38;5;241m=\u001B[39m\u001B[38;5;124m\"\u001B[39m\u001B[38;5;124mextended\u001B[39m\u001B[38;5;124m\"\u001B[39m)\u001B[38;5;241m.\u001B[39mitems(\u001B[38;5;241m100\u001B[39m)\n\u001B[1;32m     29\u001B[0m \u001B[38;5;66;03m# Store tweet data in a list\u001B[39;00m\n\u001B[0;32m---> 30\u001B[0m data \u001B[38;5;241m=\u001B[39m [[tweet\u001B[38;5;241m.\u001B[39mcreated_at, tweet\u001B[38;5;241m.\u001B[39muser\u001B[38;5;241m.\u001B[39mscreen_name, tweet\u001B[38;5;241m.\u001B[39mfull_text] \u001B[38;5;28;01mfor\u001B[39;00m tweet \u001B[38;5;129;01min\u001B[39;00m tweets]\n\u001B[1;32m     32\u001B[0m \u001B[38;5;66;03m# Create DataFrame from the list\u001B[39;00m\n\u001B[1;32m     33\u001B[0m df \u001B[38;5;241m=\u001B[39m pd\u001B[38;5;241m.\u001B[39mDataFrame(data, columns\u001B[38;5;241m=\u001B[39m[\u001B[38;5;124m\"\u001B[39m\u001B[38;5;124mDate\u001B[39m\u001B[38;5;124m\"\u001B[39m, \u001B[38;5;124m\"\u001B[39m\u001B[38;5;124mUser\u001B[39m\u001B[38;5;124m\"\u001B[39m, \u001B[38;5;124m\"\u001B[39m\u001B[38;5;124mTweet\u001B[39m\u001B[38;5;124m\"\u001B[39m])\n",
      "Cell \u001B[0;32mIn[1], line 30\u001B[0m, in \u001B[0;36m<listcomp>\u001B[0;34m(.0)\u001B[0m\n\u001B[1;32m     27\u001B[0m tweets \u001B[38;5;241m=\u001B[39m tweepy\u001B[38;5;241m.\u001B[39mCursor(api\u001B[38;5;241m.\u001B[39msearch_tweets, q\u001B[38;5;241m=\u001B[39mkeywords, lang\u001B[38;5;241m=\u001B[39m\u001B[38;5;124m\"\u001B[39m\u001B[38;5;124men\u001B[39m\u001B[38;5;124m\"\u001B[39m, tweet_mode\u001B[38;5;241m=\u001B[39m\u001B[38;5;124m\"\u001B[39m\u001B[38;5;124mextended\u001B[39m\u001B[38;5;124m\"\u001B[39m)\u001B[38;5;241m.\u001B[39mitems(\u001B[38;5;241m100\u001B[39m)\n\u001B[1;32m     29\u001B[0m \u001B[38;5;66;03m# Store tweet data in a list\u001B[39;00m\n\u001B[0;32m---> 30\u001B[0m data \u001B[38;5;241m=\u001B[39m [[tweet\u001B[38;5;241m.\u001B[39mcreated_at, tweet\u001B[38;5;241m.\u001B[39muser\u001B[38;5;241m.\u001B[39mscreen_name, tweet\u001B[38;5;241m.\u001B[39mfull_text] \u001B[38;5;28;01mfor\u001B[39;00m tweet \u001B[38;5;129;01min\u001B[39;00m tweets]\n\u001B[1;32m     32\u001B[0m \u001B[38;5;66;03m# Create DataFrame from the list\u001B[39;00m\n\u001B[1;32m     33\u001B[0m df \u001B[38;5;241m=\u001B[39m pd\u001B[38;5;241m.\u001B[39mDataFrame(data, columns\u001B[38;5;241m=\u001B[39m[\u001B[38;5;124m\"\u001B[39m\u001B[38;5;124mDate\u001B[39m\u001B[38;5;124m\"\u001B[39m, \u001B[38;5;124m\"\u001B[39m\u001B[38;5;124mUser\u001B[39m\u001B[38;5;124m\"\u001B[39m, \u001B[38;5;124m\"\u001B[39m\u001B[38;5;124mTweet\u001B[39m\u001B[38;5;124m\"\u001B[39m])\n",
      "File \u001B[0;32m~/PycharmProjects/EthicalBiasDetectionNLP/.venv/lib/python3.9/site-packages/tweepy/cursor.py:86\u001B[0m, in \u001B[0;36mBaseIterator.__next__\u001B[0;34m(self)\u001B[0m\n\u001B[1;32m     85\u001B[0m \u001B[38;5;28;01mdef\u001B[39;00m \u001B[38;5;21m__next__\u001B[39m(\u001B[38;5;28mself\u001B[39m):\n\u001B[0;32m---> 86\u001B[0m     \u001B[38;5;28;01mreturn\u001B[39;00m \u001B[38;5;28;43mself\u001B[39;49m\u001B[38;5;241;43m.\u001B[39;49m\u001B[43mnext\u001B[49m\u001B[43m(\u001B[49m\u001B[43m)\u001B[49m\n",
      "File \u001B[0;32m~/PycharmProjects/EthicalBiasDetectionNLP/.venv/lib/python3.9/site-packages/tweepy/cursor.py:286\u001B[0m, in \u001B[0;36mItemIterator.next\u001B[0;34m(self)\u001B[0m\n\u001B[1;32m    283\u001B[0m     \u001B[38;5;28;01mraise\u001B[39;00m \u001B[38;5;167;01mStopIteration\u001B[39;00m\n\u001B[1;32m    284\u001B[0m \u001B[38;5;28;01mif\u001B[39;00m \u001B[38;5;28mself\u001B[39m\u001B[38;5;241m.\u001B[39mcurrent_page \u001B[38;5;129;01mis\u001B[39;00m \u001B[38;5;28;01mNone\u001B[39;00m \u001B[38;5;129;01mor\u001B[39;00m \u001B[38;5;28mself\u001B[39m\u001B[38;5;241m.\u001B[39mpage_index \u001B[38;5;241m==\u001B[39m \u001B[38;5;28mlen\u001B[39m(\u001B[38;5;28mself\u001B[39m\u001B[38;5;241m.\u001B[39mcurrent_page) \u001B[38;5;241m-\u001B[39m \u001B[38;5;241m1\u001B[39m:\n\u001B[1;32m    285\u001B[0m     \u001B[38;5;66;03m# Reached end of current page, get the next page...\u001B[39;00m\n\u001B[0;32m--> 286\u001B[0m     \u001B[38;5;28mself\u001B[39m\u001B[38;5;241m.\u001B[39mcurrent_page \u001B[38;5;241m=\u001B[39m \u001B[38;5;28;43mnext\u001B[39;49m\u001B[43m(\u001B[49m\u001B[38;5;28;43mself\u001B[39;49m\u001B[38;5;241;43m.\u001B[39;49m\u001B[43mpage_iterator\u001B[49m\u001B[43m)\u001B[49m\n\u001B[1;32m    287\u001B[0m     \u001B[38;5;28;01mwhile\u001B[39;00m \u001B[38;5;28mlen\u001B[39m(\u001B[38;5;28mself\u001B[39m\u001B[38;5;241m.\u001B[39mcurrent_page) \u001B[38;5;241m==\u001B[39m \u001B[38;5;241m0\u001B[39m:\n\u001B[1;32m    288\u001B[0m         \u001B[38;5;28mself\u001B[39m\u001B[38;5;241m.\u001B[39mcurrent_page \u001B[38;5;241m=\u001B[39m \u001B[38;5;28mnext\u001B[39m(\u001B[38;5;28mself\u001B[39m\u001B[38;5;241m.\u001B[39mpage_iterator)\n",
      "File \u001B[0;32m~/PycharmProjects/EthicalBiasDetectionNLP/.venv/lib/python3.9/site-packages/tweepy/cursor.py:86\u001B[0m, in \u001B[0;36mBaseIterator.__next__\u001B[0;34m(self)\u001B[0m\n\u001B[1;32m     85\u001B[0m \u001B[38;5;28;01mdef\u001B[39;00m \u001B[38;5;21m__next__\u001B[39m(\u001B[38;5;28mself\u001B[39m):\n\u001B[0;32m---> 86\u001B[0m     \u001B[38;5;28;01mreturn\u001B[39;00m \u001B[38;5;28;43mself\u001B[39;49m\u001B[38;5;241;43m.\u001B[39;49m\u001B[43mnext\u001B[49m\u001B[43m(\u001B[49m\u001B[43m)\u001B[49m\n",
      "File \u001B[0;32m~/PycharmProjects/EthicalBiasDetectionNLP/.venv/lib/python3.9/site-packages/tweepy/cursor.py:167\u001B[0m, in \u001B[0;36mIdIterator.next\u001B[0;34m(self)\u001B[0m\n\u001B[1;32m    164\u001B[0m     \u001B[38;5;28;01mraise\u001B[39;00m \u001B[38;5;167;01mStopIteration\u001B[39;00m\n\u001B[1;32m    166\u001B[0m \u001B[38;5;28;01mif\u001B[39;00m \u001B[38;5;28mself\u001B[39m\u001B[38;5;241m.\u001B[39mindex \u001B[38;5;241m>\u001B[39m\u001B[38;5;241m=\u001B[39m \u001B[38;5;28mlen\u001B[39m(\u001B[38;5;28mself\u001B[39m\u001B[38;5;241m.\u001B[39mresults) \u001B[38;5;241m-\u001B[39m \u001B[38;5;241m1\u001B[39m:\n\u001B[0;32m--> 167\u001B[0m     data \u001B[38;5;241m=\u001B[39m \u001B[38;5;28;43mself\u001B[39;49m\u001B[38;5;241;43m.\u001B[39;49m\u001B[43mmethod\u001B[49m\u001B[43m(\u001B[49m\u001B[43mmax_id\u001B[49m\u001B[38;5;241;43m=\u001B[39;49m\u001B[38;5;28;43mself\u001B[39;49m\u001B[38;5;241;43m.\u001B[39;49m\u001B[43mmax_id\u001B[49m\u001B[43m,\u001B[49m\u001B[43m \u001B[49m\u001B[43mparser\u001B[49m\u001B[38;5;241;43m=\u001B[39;49m\u001B[43mRawParser\u001B[49m\u001B[43m(\u001B[49m\u001B[43m)\u001B[49m\u001B[43m,\u001B[49m\u001B[43m \u001B[49m\u001B[38;5;241;43m*\u001B[39;49m\u001B[38;5;28;43mself\u001B[39;49m\u001B[38;5;241;43m.\u001B[39;49m\u001B[43margs\u001B[49m\u001B[43m,\u001B[49m\u001B[43m \u001B[49m\u001B[38;5;241;43m*\u001B[39;49m\u001B[38;5;241;43m*\u001B[39;49m\u001B[38;5;28;43mself\u001B[39;49m\u001B[38;5;241;43m.\u001B[39;49m\u001B[43mkwargs\u001B[49m\u001B[43m)\u001B[49m\n\u001B[1;32m    169\u001B[0m     model \u001B[38;5;241m=\u001B[39m ModelParser()\u001B[38;5;241m.\u001B[39mparse(\n\u001B[1;32m    170\u001B[0m         data, api \u001B[38;5;241m=\u001B[39m \u001B[38;5;28mself\u001B[39m\u001B[38;5;241m.\u001B[39mmethod\u001B[38;5;241m.\u001B[39m\u001B[38;5;18m__self__\u001B[39m,\n\u001B[1;32m    171\u001B[0m         payload_list\u001B[38;5;241m=\u001B[39m\u001B[38;5;28mself\u001B[39m\u001B[38;5;241m.\u001B[39mmethod\u001B[38;5;241m.\u001B[39mpayload_list,\n\u001B[1;32m    172\u001B[0m         payload_type\u001B[38;5;241m=\u001B[39m\u001B[38;5;28mself\u001B[39m\u001B[38;5;241m.\u001B[39mmethod\u001B[38;5;241m.\u001B[39mpayload_type\n\u001B[1;32m    173\u001B[0m     )\n\u001B[1;32m    174\u001B[0m     result \u001B[38;5;241m=\u001B[39m \u001B[38;5;28mself\u001B[39m\u001B[38;5;241m.\u001B[39mmethod\u001B[38;5;241m.\u001B[39m\u001B[38;5;18m__self__\u001B[39m\u001B[38;5;241m.\u001B[39mparser\u001B[38;5;241m.\u001B[39mparse(\n\u001B[1;32m    175\u001B[0m         data, api \u001B[38;5;241m=\u001B[39m \u001B[38;5;28mself\u001B[39m\u001B[38;5;241m.\u001B[39mmethod\u001B[38;5;241m.\u001B[39m\u001B[38;5;18m__self__\u001B[39m,\n\u001B[1;32m    176\u001B[0m         payload_list\u001B[38;5;241m=\u001B[39m\u001B[38;5;28mself\u001B[39m\u001B[38;5;241m.\u001B[39mmethod\u001B[38;5;241m.\u001B[39mpayload_list,\n\u001B[1;32m    177\u001B[0m         payload_type\u001B[38;5;241m=\u001B[39m\u001B[38;5;28mself\u001B[39m\u001B[38;5;241m.\u001B[39mmethod\u001B[38;5;241m.\u001B[39mpayload_type\n\u001B[1;32m    178\u001B[0m     )\n",
      "File \u001B[0;32m~/PycharmProjects/EthicalBiasDetectionNLP/.venv/lib/python3.9/site-packages/tweepy/api.py:33\u001B[0m, in \u001B[0;36mpagination.<locals>.decorator.<locals>.wrapper\u001B[0;34m(*args, **kwargs)\u001B[0m\n\u001B[1;32m     31\u001B[0m \u001B[38;5;129m@functools\u001B[39m\u001B[38;5;241m.\u001B[39mwraps(method)\n\u001B[1;32m     32\u001B[0m \u001B[38;5;28;01mdef\u001B[39;00m \u001B[38;5;21mwrapper\u001B[39m(\u001B[38;5;241m*\u001B[39margs, \u001B[38;5;241m*\u001B[39m\u001B[38;5;241m*\u001B[39mkwargs):\n\u001B[0;32m---> 33\u001B[0m     \u001B[38;5;28;01mreturn\u001B[39;00m \u001B[43mmethod\u001B[49m\u001B[43m(\u001B[49m\u001B[38;5;241;43m*\u001B[39;49m\u001B[43margs\u001B[49m\u001B[43m,\u001B[49m\u001B[43m \u001B[49m\u001B[38;5;241;43m*\u001B[39;49m\u001B[38;5;241;43m*\u001B[39;49m\u001B[43mkwargs\u001B[49m\u001B[43m)\u001B[49m\n",
      "File \u001B[0;32m~/PycharmProjects/EthicalBiasDetectionNLP/.venv/lib/python3.9/site-packages/tweepy/api.py:46\u001B[0m, in \u001B[0;36mpayload.<locals>.decorator.<locals>.wrapper\u001B[0;34m(*args, **kwargs)\u001B[0m\n\u001B[1;32m     44\u001B[0m kwargs[\u001B[38;5;124m'\u001B[39m\u001B[38;5;124mpayload_list\u001B[39m\u001B[38;5;124m'\u001B[39m] \u001B[38;5;241m=\u001B[39m payload_list\n\u001B[1;32m     45\u001B[0m kwargs[\u001B[38;5;124m'\u001B[39m\u001B[38;5;124mpayload_type\u001B[39m\u001B[38;5;124m'\u001B[39m] \u001B[38;5;241m=\u001B[39m payload_type\n\u001B[0;32m---> 46\u001B[0m \u001B[38;5;28;01mreturn\u001B[39;00m \u001B[43mmethod\u001B[49m\u001B[43m(\u001B[49m\u001B[38;5;241;43m*\u001B[39;49m\u001B[43margs\u001B[49m\u001B[43m,\u001B[49m\u001B[43m \u001B[49m\u001B[38;5;241;43m*\u001B[39;49m\u001B[38;5;241;43m*\u001B[39;49m\u001B[43mkwargs\u001B[49m\u001B[43m)\u001B[49m\n",
      "File \u001B[0;32m~/PycharmProjects/EthicalBiasDetectionNLP/.venv/lib/python3.9/site-packages/tweepy/api.py:1146\u001B[0m, in \u001B[0;36mAPI.search_tweets\u001B[0;34m(self, q, **kwargs)\u001B[0m\n\u001B[1;32m   1052\u001B[0m \u001B[38;5;129m@pagination\u001B[39m(mode\u001B[38;5;241m=\u001B[39m\u001B[38;5;124m'\u001B[39m\u001B[38;5;124mid\u001B[39m\u001B[38;5;124m'\u001B[39m)\n\u001B[1;32m   1053\u001B[0m \u001B[38;5;129m@payload\u001B[39m(\u001B[38;5;124m'\u001B[39m\u001B[38;5;124msearch_results\u001B[39m\u001B[38;5;124m'\u001B[39m)\n\u001B[1;32m   1054\u001B[0m \u001B[38;5;28;01mdef\u001B[39;00m \u001B[38;5;21msearch_tweets\u001B[39m(\u001B[38;5;28mself\u001B[39m, q, \u001B[38;5;241m*\u001B[39m\u001B[38;5;241m*\u001B[39mkwargs):\n\u001B[1;32m   1055\u001B[0m \u001B[38;5;250m    \u001B[39m\u001B[38;5;124;03m\"\"\"search_tweets(q, *, geocode, lang, locale, result_type, count, \\\u001B[39;00m\n\u001B[1;32m   1056\u001B[0m \u001B[38;5;124;03m                     until, since_id, max_id, include_entities)\u001B[39;00m\n\u001B[1;32m   1057\u001B[0m \n\u001B[0;32m   (...)\u001B[0m\n\u001B[1;32m   1144\u001B[0m \u001B[38;5;124;03m    .. _Twitter's documentation on the standard search API: https://developer.twitter.com/en/docs/twitter-api/v1/tweets/search/overview\u001B[39;00m\n\u001B[1;32m   1145\u001B[0m \u001B[38;5;124;03m    \"\"\"\u001B[39;00m\n\u001B[0;32m-> 1146\u001B[0m     \u001B[38;5;28;01mreturn\u001B[39;00m \u001B[38;5;28;43mself\u001B[39;49m\u001B[38;5;241;43m.\u001B[39;49m\u001B[43mrequest\u001B[49m\u001B[43m(\u001B[49m\n\u001B[1;32m   1147\u001B[0m \u001B[43m        \u001B[49m\u001B[38;5;124;43m'\u001B[39;49m\u001B[38;5;124;43mGET\u001B[39;49m\u001B[38;5;124;43m'\u001B[39;49m\u001B[43m,\u001B[49m\u001B[43m \u001B[49m\u001B[38;5;124;43m'\u001B[39;49m\u001B[38;5;124;43msearch/tweets\u001B[39;49m\u001B[38;5;124;43m'\u001B[39;49m\u001B[43m,\u001B[49m\u001B[43m \u001B[49m\u001B[43mendpoint_parameters\u001B[49m\u001B[38;5;241;43m=\u001B[39;49m\u001B[43m(\u001B[49m\n\u001B[1;32m   1148\u001B[0m \u001B[43m            \u001B[49m\u001B[38;5;124;43m'\u001B[39;49m\u001B[38;5;124;43mq\u001B[39;49m\u001B[38;5;124;43m'\u001B[39;49m\u001B[43m,\u001B[49m\u001B[43m \u001B[49m\u001B[38;5;124;43m'\u001B[39;49m\u001B[38;5;124;43mgeocode\u001B[39;49m\u001B[38;5;124;43m'\u001B[39;49m\u001B[43m,\u001B[49m\u001B[43m \u001B[49m\u001B[38;5;124;43m'\u001B[39;49m\u001B[38;5;124;43mlang\u001B[39;49m\u001B[38;5;124;43m'\u001B[39;49m\u001B[43m,\u001B[49m\u001B[43m \u001B[49m\u001B[38;5;124;43m'\u001B[39;49m\u001B[38;5;124;43mlocale\u001B[39;49m\u001B[38;5;124;43m'\u001B[39;49m\u001B[43m,\u001B[49m\u001B[43m \u001B[49m\u001B[38;5;124;43m'\u001B[39;49m\u001B[38;5;124;43mresult_type\u001B[39;49m\u001B[38;5;124;43m'\u001B[39;49m\u001B[43m,\u001B[49m\u001B[43m \u001B[49m\u001B[38;5;124;43m'\u001B[39;49m\u001B[38;5;124;43mcount\u001B[39;49m\u001B[38;5;124;43m'\u001B[39;49m\u001B[43m,\u001B[49m\n\u001B[1;32m   1149\u001B[0m \u001B[43m            \u001B[49m\u001B[38;5;124;43m'\u001B[39;49m\u001B[38;5;124;43muntil\u001B[39;49m\u001B[38;5;124;43m'\u001B[39;49m\u001B[43m,\u001B[49m\u001B[43m \u001B[49m\u001B[38;5;124;43m'\u001B[39;49m\u001B[38;5;124;43msince_id\u001B[39;49m\u001B[38;5;124;43m'\u001B[39;49m\u001B[43m,\u001B[49m\u001B[43m \u001B[49m\u001B[38;5;124;43m'\u001B[39;49m\u001B[38;5;124;43mmax_id\u001B[39;49m\u001B[38;5;124;43m'\u001B[39;49m\u001B[43m,\u001B[49m\u001B[43m \u001B[49m\u001B[38;5;124;43m'\u001B[39;49m\u001B[38;5;124;43minclude_entities\u001B[39;49m\u001B[38;5;124;43m'\u001B[39;49m\n\u001B[1;32m   1150\u001B[0m \u001B[43m        \u001B[49m\u001B[43m)\u001B[49m\u001B[43m,\u001B[49m\u001B[43m \u001B[49m\u001B[43mq\u001B[49m\u001B[38;5;241;43m=\u001B[39;49m\u001B[43mq\u001B[49m\u001B[43m,\u001B[49m\u001B[43m \u001B[49m\u001B[38;5;241;43m*\u001B[39;49m\u001B[38;5;241;43m*\u001B[39;49m\u001B[43mkwargs\u001B[49m\n\u001B[1;32m   1151\u001B[0m \u001B[43m    \u001B[49m\u001B[43m)\u001B[49m\n",
      "File \u001B[0;32m~/PycharmProjects/EthicalBiasDetectionNLP/.venv/lib/python3.9/site-packages/tweepy/api.py:271\u001B[0m, in \u001B[0;36mAPI.request\u001B[0;34m(self, method, endpoint, endpoint_parameters, params, headers, json_payload, parser, payload_list, payload_type, post_data, files, require_auth, return_cursors, upload_api, use_cache, **kwargs)\u001B[0m\n\u001B[1;32m    269\u001B[0m     \u001B[38;5;28;01mraise\u001B[39;00m Unauthorized(resp)\n\u001B[1;32m    270\u001B[0m \u001B[38;5;28;01mif\u001B[39;00m resp\u001B[38;5;241m.\u001B[39mstatus_code \u001B[38;5;241m==\u001B[39m \u001B[38;5;241m403\u001B[39m:\n\u001B[0;32m--> 271\u001B[0m     \u001B[38;5;28;01mraise\u001B[39;00m Forbidden(resp)\n\u001B[1;32m    272\u001B[0m \u001B[38;5;28;01mif\u001B[39;00m resp\u001B[38;5;241m.\u001B[39mstatus_code \u001B[38;5;241m==\u001B[39m \u001B[38;5;241m404\u001B[39m:\n\u001B[1;32m    273\u001B[0m     \u001B[38;5;28;01mraise\u001B[39;00m NotFound(resp)\n",
      "\u001B[0;31mForbidden\u001B[0m: 403 Forbidden\n453 - You currently have access to a subset of X API V2 endpoints and limited v1.1 endpoints (e.g. media post, oauth) only. If you need access to this endpoint, you may need a different access level. You can learn more here: https://developer.x.com/en/portal/product"
     ]
    }
   ],
   "execution_count": 1
  },
  {
   "metadata": {},
   "cell_type": "code",
   "outputs": [],
   "execution_count": null,
   "source": "",
   "id": "c421661db96f9569"
  }
 ],
 "metadata": {
  "kernelspec": {
   "display_name": "Python 3",
   "language": "python",
   "name": "python3"
  },
  "language_info": {
   "codemirror_mode": {
    "name": "ipython",
    "version": 2
   },
   "file_extension": ".py",
   "mimetype": "text/x-python",
   "name": "python",
   "nbconvert_exporter": "python",
   "pygments_lexer": "ipython2",
   "version": "2.7.6"
  }
 },
 "nbformat": 4,
 "nbformat_minor": 5
}
