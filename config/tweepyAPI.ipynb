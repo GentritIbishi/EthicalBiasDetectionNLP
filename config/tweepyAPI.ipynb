{
 "cells": [
  {
   "cell_type": "code",
   "id": "initial_id",
   "metadata": {
    "collapsed": true,
    "ExecuteTime": {
     "end_time": "2024-12-09T09:50:53.132843Z",
     "start_time": "2024-12-09T09:50:49.621030Z"
    }
   },
   "source": [
    "import tweepy\n",
    "import pandas as pd\n",
    "import time\n",
    "\n",
    "# Bearer tokens\n",
    "BEARER_TOKENS = [\n",
    "    \"AAAAAAAAAAAAAAAAAAAAAF0sxQEAAAAARrIIO7syGsyteGGoMUBoU1zL0XI%3DyJC0Vj1RvRmcGP39zjB4cfkYONcC5ouFrHwXiBrcQufdOT0QDH\",\n",
    "    \"AAAAAAAAAAAAAAAAAAAAABNfxQEAAAAAlPtf0kffuoJchGZEjJrHsELAILU%3DxaUkeKwsCfl4wwVxVb8QKezihitPsxbsk2FDIgG4bBibRQdPiw\",\n",
    "    \"AAAAAAAAAAAAAAAAAAAAADcsxQEAAAAA1FJXhrBL%2FXo3Nlw78YC5TVO4jns%3D30eM1mRWzb9erLFlvSrqupvdS9pByR6xE530Vn6gJmK26ychGb\"\n",
    "]\n",
    "\n",
    "# Queries\n",
    "queries = [\n",
    "        '(Conflict Kosovo OR Conflict Serbia OR RKS OR SRB) lang:en -is:retweet'\n",
    "]\n",
    "\n",
    "# Parameters for tweet collection\n",
    "max_tweets_per_query = 100\n",
    "tweets_per_request = 50\n",
    "output_file = \"fortesting.csv\"\n",
    "\n",
    "# Function to save data to a CSV file\n",
    "def save_to_csv(data, filename):\n",
    "    df = pd.DataFrame(data, columns=[\"Query\", \"Tweet ID\", \"Author ID\", \"Created At\", \"Text\"])\n",
    "    header = not pd.io.common.file_exists(filename)\n",
    "    df.to_csv(filename, mode='a', header=header, index=False)\n",
    "    print(f\"Saved {len(data)} tweets to {filename}\")\n",
    "\n",
    "# Function to fetch tweets\n",
    "def fetch_tweets(client, query):\n",
    "    tweets_data = []\n",
    "    tweet_ids = set()\n",
    "    tweet_count = 0\n",
    "    next_token = None\n",
    "    print(\"Fetching tweets count... \", tweet_count)\n",
    "    print(\"Fetching tweets count... \", tweet_count)\n",
    "\n",
    "    while tweet_count < max_tweets_per_query:\n",
    "        try:\n",
    "            response = client.search_recent_tweets(\n",
    "                query=query,\n",
    "                max_results=tweets_per_request,\n",
    "                next_token=next_token,\n",
    "                tweet_fields=[\"created_at\", \"author_id\", \"id\"],\n",
    "            )\n",
    "\n",
    "            if response.data:\n",
    "                for tweet in response.data:\n",
    "                    if tweet.id not in tweet_ids:\n",
    "                        tweet_ids.add(tweet.id)\n",
    "                        tweets_data.append([query, tweet.id, tweet.author_id, tweet.created_at, tweet.text])\n",
    "                        tweet_count += 1\n",
    "\n",
    "            # Save tweets in batches\n",
    "            if tweets_data:\n",
    "                save_to_csv(tweets_data, output_file)\n",
    "                tweets_data = []\n",
    "\n",
    "            # Check for next_token\n",
    "            next_token = response.meta.get('next_token') if response.meta else None\n",
    "            if not next_token or tweet_count >= max_tweets_per_query:\n",
    "                break\n",
    "\n",
    "            time.sleep(2)  # Short delay between requests\n",
    "\n",
    "        except tweepy.TooManyRequests:\n",
    "            print(tweepy.TweepyException)\n",
    "            print(\"Rate limit exceeded, waiting for 15 minutes...\")\n",
    "            time.sleep(15 * 60)\n",
    "        except Exception as e:\n",
    "            print(f\"Error fetching tweets: {e}\")\n",
    "            break\n",
    "\n",
    "# Main script\n",
    "if __name__ == \"__main__\":\n",
    "    for bearer_token in BEARER_TOKENS:\n",
    "        client = tweepy.Client(bearer_token=bearer_token)\n",
    "        print(f\"Using bearer token: {bearer_token[:20]}...\")\n",
    "\n",
    "        for query in queries:\n",
    "            print(f\"Executing query: {query}\")\n",
    "            fetch_tweets(client, query)\n",
    "\n",
    "        print(\"Switching to the next bearer token...\")\n",
    "        time.sleep(15 * 60)  # Ensure no overlap in rate limits\n",
    "\n",
    "    print(\"Tweet collection complete.\")\n"
   ],
   "outputs": [
    {
     "name": "stdout",
     "output_type": "stream",
     "text": [
      "Using bearer token: AAAAAAAAAAAAAAAAAAAA...\n",
      "Executing query: (Conflict Kosovo OR Conflict Serbia OR RKS OR SRB) lang:en -is:retweet\n",
      "Fetching tweets count...  0\n",
      "Fetching tweets count...  0\n",
      "<class 'tweepy.errors.TweepyException'>\n",
      "Rate limit exceeded, waiting for 15 minutes...\n"
     ]
    },
    {
     "ename": "KeyboardInterrupt",
     "evalue": "",
     "output_type": "error",
     "traceback": [
      "\u001B[0;31m---------------------------------------------------------------------------\u001B[0m",
      "\u001B[0;31mTooManyRequests\u001B[0m                           Traceback (most recent call last)",
      "Cell \u001B[0;32mIn[23], line 40\u001B[0m, in \u001B[0;36mfetch_tweets\u001B[0;34m(client, query)\u001B[0m\n\u001B[1;32m     39\u001B[0m \u001B[38;5;28;01mtry\u001B[39;00m:\n\u001B[0;32m---> 40\u001B[0m     response \u001B[38;5;241m=\u001B[39m \u001B[43mclient\u001B[49m\u001B[38;5;241;43m.\u001B[39;49m\u001B[43msearch_recent_tweets\u001B[49m\u001B[43m(\u001B[49m\n\u001B[1;32m     41\u001B[0m \u001B[43m        \u001B[49m\u001B[43mquery\u001B[49m\u001B[38;5;241;43m=\u001B[39;49m\u001B[43mquery\u001B[49m\u001B[43m,\u001B[49m\n\u001B[1;32m     42\u001B[0m \u001B[43m        \u001B[49m\u001B[43mmax_results\u001B[49m\u001B[38;5;241;43m=\u001B[39;49m\u001B[43mtweets_per_request\u001B[49m\u001B[43m,\u001B[49m\n\u001B[1;32m     43\u001B[0m \u001B[43m        \u001B[49m\u001B[43mnext_token\u001B[49m\u001B[38;5;241;43m=\u001B[39;49m\u001B[43mnext_token\u001B[49m\u001B[43m,\u001B[49m\n\u001B[1;32m     44\u001B[0m \u001B[43m        \u001B[49m\u001B[43mtweet_fields\u001B[49m\u001B[38;5;241;43m=\u001B[39;49m\u001B[43m[\u001B[49m\u001B[38;5;124;43m\"\u001B[39;49m\u001B[38;5;124;43mcreated_at\u001B[39;49m\u001B[38;5;124;43m\"\u001B[39;49m\u001B[43m,\u001B[49m\u001B[43m \u001B[49m\u001B[38;5;124;43m\"\u001B[39;49m\u001B[38;5;124;43mauthor_id\u001B[39;49m\u001B[38;5;124;43m\"\u001B[39;49m\u001B[43m,\u001B[49m\u001B[43m \u001B[49m\u001B[38;5;124;43m\"\u001B[39;49m\u001B[38;5;124;43mid\u001B[39;49m\u001B[38;5;124;43m\"\u001B[39;49m\u001B[43m]\u001B[49m\u001B[43m,\u001B[49m\n\u001B[1;32m     45\u001B[0m \u001B[43m    \u001B[49m\u001B[43m)\u001B[49m\n\u001B[1;32m     47\u001B[0m     \u001B[38;5;28;01mif\u001B[39;00m response\u001B[38;5;241m.\u001B[39mdata:\n",
      "File \u001B[0;32m~/PycharmProjects/EthicalBiasDetectionNLP/.venv/lib/python3.9/site-packages/tweepy/client.py:1266\u001B[0m, in \u001B[0;36mClient.search_recent_tweets\u001B[0;34m(self, query, user_auth, **params)\u001B[0m\n\u001B[1;32m   1265\u001B[0m params[\u001B[38;5;124m\"\u001B[39m\u001B[38;5;124mquery\u001B[39m\u001B[38;5;124m\"\u001B[39m] \u001B[38;5;241m=\u001B[39m query\n\u001B[0;32m-> 1266\u001B[0m \u001B[38;5;28;01mreturn\u001B[39;00m \u001B[38;5;28;43mself\u001B[39;49m\u001B[38;5;241;43m.\u001B[39;49m\u001B[43m_make_request\u001B[49m\u001B[43m(\u001B[49m\n\u001B[1;32m   1267\u001B[0m \u001B[43m    \u001B[49m\u001B[38;5;124;43m\"\u001B[39;49m\u001B[38;5;124;43mGET\u001B[39;49m\u001B[38;5;124;43m\"\u001B[39;49m\u001B[43m,\u001B[49m\u001B[43m \u001B[49m\u001B[38;5;124;43m\"\u001B[39;49m\u001B[38;5;124;43m/2/tweets/search/recent\u001B[39;49m\u001B[38;5;124;43m\"\u001B[39;49m\u001B[43m,\u001B[49m\u001B[43m \u001B[49m\u001B[43mparams\u001B[49m\u001B[38;5;241;43m=\u001B[39;49m\u001B[43mparams\u001B[49m\u001B[43m,\u001B[49m\n\u001B[1;32m   1268\u001B[0m \u001B[43m    \u001B[49m\u001B[43mendpoint_parameters\u001B[49m\u001B[38;5;241;43m=\u001B[39;49m\u001B[43m(\u001B[49m\n\u001B[1;32m   1269\u001B[0m \u001B[43m        \u001B[49m\u001B[38;5;124;43m\"\u001B[39;49m\u001B[38;5;124;43mend_time\u001B[39;49m\u001B[38;5;124;43m\"\u001B[39;49m\u001B[43m,\u001B[49m\u001B[43m \u001B[49m\u001B[38;5;124;43m\"\u001B[39;49m\u001B[38;5;124;43mexpansions\u001B[39;49m\u001B[38;5;124;43m\"\u001B[39;49m\u001B[43m,\u001B[49m\u001B[43m \u001B[49m\u001B[38;5;124;43m\"\u001B[39;49m\u001B[38;5;124;43mmax_results\u001B[39;49m\u001B[38;5;124;43m\"\u001B[39;49m\u001B[43m,\u001B[49m\u001B[43m \u001B[49m\u001B[38;5;124;43m\"\u001B[39;49m\u001B[38;5;124;43mmedia.fields\u001B[39;49m\u001B[38;5;124;43m\"\u001B[39;49m\u001B[43m,\u001B[49m\n\u001B[1;32m   1270\u001B[0m \u001B[43m        \u001B[49m\u001B[38;5;124;43m\"\u001B[39;49m\u001B[38;5;124;43mnext_token\u001B[39;49m\u001B[38;5;124;43m\"\u001B[39;49m\u001B[43m,\u001B[49m\u001B[43m \u001B[49m\u001B[38;5;124;43m\"\u001B[39;49m\u001B[38;5;124;43mplace.fields\u001B[39;49m\u001B[38;5;124;43m\"\u001B[39;49m\u001B[43m,\u001B[49m\u001B[43m \u001B[49m\u001B[38;5;124;43m\"\u001B[39;49m\u001B[38;5;124;43mpoll.fields\u001B[39;49m\u001B[38;5;124;43m\"\u001B[39;49m\u001B[43m,\u001B[49m\u001B[43m \u001B[49m\u001B[38;5;124;43m\"\u001B[39;49m\u001B[38;5;124;43mquery\u001B[39;49m\u001B[38;5;124;43m\"\u001B[39;49m\u001B[43m,\u001B[49m\n\u001B[1;32m   1271\u001B[0m \u001B[43m        \u001B[49m\u001B[38;5;124;43m\"\u001B[39;49m\u001B[38;5;124;43msince_id\u001B[39;49m\u001B[38;5;124;43m\"\u001B[39;49m\u001B[43m,\u001B[49m\u001B[43m \u001B[49m\u001B[38;5;124;43m\"\u001B[39;49m\u001B[38;5;124;43msort_order\u001B[39;49m\u001B[38;5;124;43m\"\u001B[39;49m\u001B[43m,\u001B[49m\u001B[43m \u001B[49m\u001B[38;5;124;43m\"\u001B[39;49m\u001B[38;5;124;43mstart_time\u001B[39;49m\u001B[38;5;124;43m\"\u001B[39;49m\u001B[43m,\u001B[49m\u001B[43m \u001B[49m\u001B[38;5;124;43m\"\u001B[39;49m\u001B[38;5;124;43mtweet.fields\u001B[39;49m\u001B[38;5;124;43m\"\u001B[39;49m\u001B[43m,\u001B[49m\n\u001B[1;32m   1272\u001B[0m \u001B[43m        \u001B[49m\u001B[38;5;124;43m\"\u001B[39;49m\u001B[38;5;124;43muntil_id\u001B[39;49m\u001B[38;5;124;43m\"\u001B[39;49m\u001B[43m,\u001B[49m\u001B[43m \u001B[49m\u001B[38;5;124;43m\"\u001B[39;49m\u001B[38;5;124;43muser.fields\u001B[39;49m\u001B[38;5;124;43m\"\u001B[39;49m\n\u001B[1;32m   1273\u001B[0m \u001B[43m    \u001B[49m\u001B[43m)\u001B[49m\u001B[43m,\u001B[49m\u001B[43m \u001B[49m\u001B[43mdata_type\u001B[49m\u001B[38;5;241;43m=\u001B[39;49m\u001B[43mTweet\u001B[49m\u001B[43m,\u001B[49m\u001B[43m \u001B[49m\u001B[43muser_auth\u001B[49m\u001B[38;5;241;43m=\u001B[39;49m\u001B[43muser_auth\u001B[49m\n\u001B[1;32m   1274\u001B[0m \u001B[43m\u001B[49m\u001B[43m)\u001B[49m\n",
      "File \u001B[0;32m~/PycharmProjects/EthicalBiasDetectionNLP/.venv/lib/python3.9/site-packages/tweepy/client.py:129\u001B[0m, in \u001B[0;36mBaseClient._make_request\u001B[0;34m(self, method, route, params, endpoint_parameters, json, data_type, user_auth)\u001B[0m\n\u001B[1;32m    127\u001B[0m request_params \u001B[38;5;241m=\u001B[39m \u001B[38;5;28mself\u001B[39m\u001B[38;5;241m.\u001B[39m_process_params(params, endpoint_parameters)\n\u001B[0;32m--> 129\u001B[0m response \u001B[38;5;241m=\u001B[39m \u001B[38;5;28;43mself\u001B[39;49m\u001B[38;5;241;43m.\u001B[39;49m\u001B[43mrequest\u001B[49m\u001B[43m(\u001B[49m\u001B[43mmethod\u001B[49m\u001B[43m,\u001B[49m\u001B[43m \u001B[49m\u001B[43mroute\u001B[49m\u001B[43m,\u001B[49m\u001B[43m \u001B[49m\u001B[43mparams\u001B[49m\u001B[38;5;241;43m=\u001B[39;49m\u001B[43mrequest_params\u001B[49m\u001B[43m,\u001B[49m\n\u001B[1;32m    130\u001B[0m \u001B[43m                        \u001B[49m\u001B[43mjson\u001B[49m\u001B[38;5;241;43m=\u001B[39;49m\u001B[43mjson\u001B[49m\u001B[43m,\u001B[49m\u001B[43m \u001B[49m\u001B[43muser_auth\u001B[49m\u001B[38;5;241;43m=\u001B[39;49m\u001B[43muser_auth\u001B[49m\u001B[43m)\u001B[49m\n\u001B[1;32m    132\u001B[0m \u001B[38;5;28;01mif\u001B[39;00m \u001B[38;5;28mself\u001B[39m\u001B[38;5;241m.\u001B[39mreturn_type \u001B[38;5;129;01mis\u001B[39;00m requests\u001B[38;5;241m.\u001B[39mResponse:\n",
      "File \u001B[0;32m~/PycharmProjects/EthicalBiasDetectionNLP/.venv/lib/python3.9/site-packages/tweepy/client.py:115\u001B[0m, in \u001B[0;36mBaseClient.request\u001B[0;34m(self, method, route, params, json, user_auth)\u001B[0m\n\u001B[1;32m    114\u001B[0m     \u001B[38;5;28;01melse\u001B[39;00m:\n\u001B[0;32m--> 115\u001B[0m         \u001B[38;5;28;01mraise\u001B[39;00m TooManyRequests(response)\n\u001B[1;32m    116\u001B[0m \u001B[38;5;28;01mif\u001B[39;00m response\u001B[38;5;241m.\u001B[39mstatus_code \u001B[38;5;241m>\u001B[39m\u001B[38;5;241m=\u001B[39m \u001B[38;5;241m500\u001B[39m:\n",
      "\u001B[0;31mTooManyRequests\u001B[0m: 429 Too Many Requests\nUsage cap exceeded: Monthly product cap",
      "\nDuring handling of the above exception, another exception occurred:\n",
      "\u001B[0;31mKeyboardInterrupt\u001B[0m                         Traceback (most recent call last)",
      "Cell \u001B[0;32mIn[23], line 82\u001B[0m\n\u001B[1;32m     80\u001B[0m \u001B[38;5;28;01mfor\u001B[39;00m query \u001B[38;5;129;01min\u001B[39;00m queries:\n\u001B[1;32m     81\u001B[0m     \u001B[38;5;28mprint\u001B[39m(\u001B[38;5;124mf\u001B[39m\u001B[38;5;124m\"\u001B[39m\u001B[38;5;124mExecuting query: \u001B[39m\u001B[38;5;132;01m{\u001B[39;00mquery\u001B[38;5;132;01m}\u001B[39;00m\u001B[38;5;124m\"\u001B[39m)\n\u001B[0;32m---> 82\u001B[0m     \u001B[43mfetch_tweets\u001B[49m\u001B[43m(\u001B[49m\u001B[43mclient\u001B[49m\u001B[43m,\u001B[49m\u001B[43m \u001B[49m\u001B[43mquery\u001B[49m\u001B[43m)\u001B[49m\n\u001B[1;32m     84\u001B[0m \u001B[38;5;28mprint\u001B[39m(\u001B[38;5;124m\"\u001B[39m\u001B[38;5;124mSwitching to the next bearer token...\u001B[39m\u001B[38;5;124m\"\u001B[39m)\n\u001B[1;32m     85\u001B[0m time\u001B[38;5;241m.\u001B[39msleep(\u001B[38;5;241m15\u001B[39m \u001B[38;5;241m*\u001B[39m \u001B[38;5;241m60\u001B[39m)  \u001B[38;5;66;03m# Ensure no overlap in rate limits\u001B[39;00m\n",
      "Cell \u001B[0;32mIn[23], line 69\u001B[0m, in \u001B[0;36mfetch_tweets\u001B[0;34m(client, query)\u001B[0m\n\u001B[1;32m     67\u001B[0m     \u001B[38;5;28mprint\u001B[39m(tweepy\u001B[38;5;241m.\u001B[39mTweepyException)\n\u001B[1;32m     68\u001B[0m     \u001B[38;5;28mprint\u001B[39m(\u001B[38;5;124m\"\u001B[39m\u001B[38;5;124mRate limit exceeded, waiting for 15 minutes...\u001B[39m\u001B[38;5;124m\"\u001B[39m)\n\u001B[0;32m---> 69\u001B[0m     \u001B[43mtime\u001B[49m\u001B[38;5;241;43m.\u001B[39;49m\u001B[43msleep\u001B[49m\u001B[43m(\u001B[49m\u001B[38;5;241;43m15\u001B[39;49m\u001B[43m \u001B[49m\u001B[38;5;241;43m*\u001B[39;49m\u001B[43m \u001B[49m\u001B[38;5;241;43m60\u001B[39;49m\u001B[43m)\u001B[49m\n\u001B[1;32m     70\u001B[0m \u001B[38;5;28;01mexcept\u001B[39;00m \u001B[38;5;167;01mException\u001B[39;00m \u001B[38;5;28;01mas\u001B[39;00m e:\n\u001B[1;32m     71\u001B[0m     \u001B[38;5;28mprint\u001B[39m(\u001B[38;5;124mf\u001B[39m\u001B[38;5;124m\"\u001B[39m\u001B[38;5;124mError fetching tweets: \u001B[39m\u001B[38;5;132;01m{\u001B[39;00me\u001B[38;5;132;01m}\u001B[39;00m\u001B[38;5;124m\"\u001B[39m)\n",
      "\u001B[0;31mKeyboardInterrupt\u001B[0m: "
     ]
    }
   ],
   "execution_count": 23
  },
  {
   "metadata": {},
   "cell_type": "code",
   "outputs": [],
   "execution_count": null,
   "source": "",
   "id": "4c2f336a7a6ffed"
  }
 ],
 "metadata": {
  "kernelspec": {
   "display_name": "Python 3",
   "language": "python",
   "name": "python3"
  },
  "language_info": {
   "codemirror_mode": {
    "name": "ipython",
    "version": 2
   },
   "file_extension": ".py",
   "mimetype": "text/x-python",
   "name": "python",
   "nbconvert_exporter": "python",
   "pygments_lexer": "ipython2",
   "version": "2.7.6"
  }
 },
 "nbformat": 4,
 "nbformat_minor": 5
}
