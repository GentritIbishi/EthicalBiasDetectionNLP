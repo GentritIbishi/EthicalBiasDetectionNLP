{
 "cells": [
  {
   "cell_type": "code",
   "id": "initial_id",
   "metadata": {
    "collapsed": true,
    "ExecuteTime": {
     "end_time": "2024-12-01T15:06:38.831476Z",
     "start_time": "2024-12-01T15:06:34.462525Z"
    }
   },
   "source": [
    "import tweepy\n",
    "import pandas as pd\n",
    "import time\n",
    "\n",
    "# Authentication with Twitter API V2\n",
    "BEARER_TOKEN = \"AAAAAAAAAAAAAAAAAAAAADcsxQEAAAAA1FJXhrBL%2FXo3Nlw78YC5TVO4jns%3D30eM1mRWzb9erLFlvSrqupvdS9pByR6xE530Vn6gJmK26ychGb\"\n",
    "\n",
    "# Set up Tweepy client for API V2\n",
    "client = tweepy.Client(bearer_token=BEARER_TOKEN)\n",
    "\n",
    "# Define split search queries\n",
    "query_parts = [\n",
    "    '\"Kosovo\" OR \"Kosova\" OR \"Serbia\" OR \"Serb\" OR \"Albanians\" OR \"Serbs\"',\n",
    "    '\"#Kosovo\" OR \"#Serbia\" OR \"#KosovoSerbia\" OR \"#KosovoConflict\" OR \"#KosovoIndependence\"',\n",
    "    '\"terrorist\" OR \"occupier\" OR \"enemy\" OR \"traitor\" OR \"backward\" OR \"barbaric\"',\n",
    "    '\"genocide\" OR \"ethnic\" OR \"attack\" OR \"war crimes\"',\n",
    "    '\"Kosova\" OR \"shqiptarë\" OR \"serbë\" OR \"pavarësi\" OR \"luftë\"',\n",
    "    '\"Independence\" OR \"Albanian\" OR \"KosovoAlbanians\" OR \"Srbi\" OR \"Albanci\"',\n",
    "    '\"nezavisnost\" OR \"rat\" OR \"SerbiaKosovo\" OR \"SerbNationalism\" OR \"SerbianPride\"',\n",
    "    '\"KosovoSerbs\" OR \"NATO\" OR \"United Nations\" OR \"peace agreement\"',\n",
    "    '\"territory\" OR \"self-determination\" OR \"sovereignty\" OR \"border dispute\"',\n",
    "    '\"international law\" OR \"KosovoLiberationArmy\" OR \"Yugoslavia\" OR \"Kosovo War\"',\n",
    "    '\"1999\" OR \"SerbiaKosovoConflict\" OR \"military\" OR \"peace talks\" OR \"UN Resolution\" OR \"ethnic cleansing\"'\n",
    "]\n",
    "\n",
    "# Initialize variables\n",
    "tweets_data = []\n",
    "max_tweets = 100  # Set the total number of tweets you want to retrieve\n",
    "tweet_count = 0\n",
    "next_token = None\n",
    "\n",
    "# Loop through each query part\n",
    "for query in query_parts:\n",
    "    while tweet_count < max_tweets:\n",
    "        # Make the request to search recent tweets\n",
    "        try:\n",
    "            if next_token:\n",
    "                tweets = client.search_recent_tweets(query=query, max_results=100, next_token=next_token)\n",
    "            else:\n",
    "                tweets = client.search_recent_tweets(query=query, max_results=100)\n",
    "            \n",
    "            # Extract tweet details and store in list\n",
    "            for tweet in tweets.data:\n",
    "                tweets_data.append([tweet.created_at, tweet.author_id, tweet.text])\n",
    "                tweet_count += 1\n",
    "            \n",
    "            # Check if there's a next_token to continue pagination\n",
    "            next_token = tweets.meta.get('next_token') if 'next_token' in tweets.meta else None\n",
    "            \n",
    "            # Break the loop if there are no more tweets\n",
    "            if not next_token:\n",
    "                break\n",
    "        \n",
    "        except tweepy.TooManyRequests as e:\n",
    "            # Wait for the rate limit window to reset\n",
    "            print(\"Rate limit exceeded, waiting for 15 minutes...\")\n",
    "            time.sleep(15 * 60)  # Wait for 15 minutes\n",
    "\n",
    "# Create DataFrame\n",
    "df = pd.DataFrame(tweets_data, columns=[\"Date\", \"User\", \"Tweet\"])\n",
    "\n",
    "# Save DataFrame to CSV\n",
    "df.to_csv(\"kosovo_serbia_tweets.csv\", index=False)\n",
    "\n",
    "print(f\"Total tweets collected: {tweet_count}\")\n",
    "print(df.head())\n"
   ],
   "outputs": [
    {
     "name": "stdout",
     "output_type": "stream",
     "text": [
      "Rate limit exceeded, waiting for 15 minutes...\n"
     ]
    },
    {
     "ename": "KeyboardInterrupt",
     "evalue": "",
     "output_type": "error",
     "traceback": [
      "\u001B[0;31m---------------------------------------------------------------------------\u001B[0m",
      "\u001B[0;31mTooManyRequests\u001B[0m                           Traceback (most recent call last)",
      "Cell \u001B[0;32mIn[6], line 40\u001B[0m\n\u001B[1;32m     39\u001B[0m \u001B[38;5;28;01melse\u001B[39;00m:\n\u001B[0;32m---> 40\u001B[0m     tweets \u001B[38;5;241m=\u001B[39m \u001B[43mclient\u001B[49m\u001B[38;5;241;43m.\u001B[39;49m\u001B[43msearch_recent_tweets\u001B[49m\u001B[43m(\u001B[49m\u001B[43mquery\u001B[49m\u001B[38;5;241;43m=\u001B[39;49m\u001B[43mquery\u001B[49m\u001B[43m,\u001B[49m\u001B[43m \u001B[49m\u001B[43mmax_results\u001B[49m\u001B[38;5;241;43m=\u001B[39;49m\u001B[38;5;241;43m100\u001B[39;49m\u001B[43m)\u001B[49m\n\u001B[1;32m     42\u001B[0m \u001B[38;5;66;03m# Extract tweet details and store in list\u001B[39;00m\n",
      "File \u001B[0;32m~/PycharmProjects/EthicalBiasDetectionNLP/.venv/lib/python3.9/site-packages/tweepy/client.py:1266\u001B[0m, in \u001B[0;36mClient.search_recent_tweets\u001B[0;34m(self, query, user_auth, **params)\u001B[0m\n\u001B[1;32m   1265\u001B[0m params[\u001B[38;5;124m\"\u001B[39m\u001B[38;5;124mquery\u001B[39m\u001B[38;5;124m\"\u001B[39m] \u001B[38;5;241m=\u001B[39m query\n\u001B[0;32m-> 1266\u001B[0m \u001B[38;5;28;01mreturn\u001B[39;00m \u001B[38;5;28;43mself\u001B[39;49m\u001B[38;5;241;43m.\u001B[39;49m\u001B[43m_make_request\u001B[49m\u001B[43m(\u001B[49m\n\u001B[1;32m   1267\u001B[0m \u001B[43m    \u001B[49m\u001B[38;5;124;43m\"\u001B[39;49m\u001B[38;5;124;43mGET\u001B[39;49m\u001B[38;5;124;43m\"\u001B[39;49m\u001B[43m,\u001B[49m\u001B[43m \u001B[49m\u001B[38;5;124;43m\"\u001B[39;49m\u001B[38;5;124;43m/2/tweets/search/recent\u001B[39;49m\u001B[38;5;124;43m\"\u001B[39;49m\u001B[43m,\u001B[49m\u001B[43m \u001B[49m\u001B[43mparams\u001B[49m\u001B[38;5;241;43m=\u001B[39;49m\u001B[43mparams\u001B[49m\u001B[43m,\u001B[49m\n\u001B[1;32m   1268\u001B[0m \u001B[43m    \u001B[49m\u001B[43mendpoint_parameters\u001B[49m\u001B[38;5;241;43m=\u001B[39;49m\u001B[43m(\u001B[49m\n\u001B[1;32m   1269\u001B[0m \u001B[43m        \u001B[49m\u001B[38;5;124;43m\"\u001B[39;49m\u001B[38;5;124;43mend_time\u001B[39;49m\u001B[38;5;124;43m\"\u001B[39;49m\u001B[43m,\u001B[49m\u001B[43m \u001B[49m\u001B[38;5;124;43m\"\u001B[39;49m\u001B[38;5;124;43mexpansions\u001B[39;49m\u001B[38;5;124;43m\"\u001B[39;49m\u001B[43m,\u001B[49m\u001B[43m \u001B[49m\u001B[38;5;124;43m\"\u001B[39;49m\u001B[38;5;124;43mmax_results\u001B[39;49m\u001B[38;5;124;43m\"\u001B[39;49m\u001B[43m,\u001B[49m\u001B[43m \u001B[49m\u001B[38;5;124;43m\"\u001B[39;49m\u001B[38;5;124;43mmedia.fields\u001B[39;49m\u001B[38;5;124;43m\"\u001B[39;49m\u001B[43m,\u001B[49m\n\u001B[1;32m   1270\u001B[0m \u001B[43m        \u001B[49m\u001B[38;5;124;43m\"\u001B[39;49m\u001B[38;5;124;43mnext_token\u001B[39;49m\u001B[38;5;124;43m\"\u001B[39;49m\u001B[43m,\u001B[49m\u001B[43m \u001B[49m\u001B[38;5;124;43m\"\u001B[39;49m\u001B[38;5;124;43mplace.fields\u001B[39;49m\u001B[38;5;124;43m\"\u001B[39;49m\u001B[43m,\u001B[49m\u001B[43m \u001B[49m\u001B[38;5;124;43m\"\u001B[39;49m\u001B[38;5;124;43mpoll.fields\u001B[39;49m\u001B[38;5;124;43m\"\u001B[39;49m\u001B[43m,\u001B[49m\u001B[43m \u001B[49m\u001B[38;5;124;43m\"\u001B[39;49m\u001B[38;5;124;43mquery\u001B[39;49m\u001B[38;5;124;43m\"\u001B[39;49m\u001B[43m,\u001B[49m\n\u001B[1;32m   1271\u001B[0m \u001B[43m        \u001B[49m\u001B[38;5;124;43m\"\u001B[39;49m\u001B[38;5;124;43msince_id\u001B[39;49m\u001B[38;5;124;43m\"\u001B[39;49m\u001B[43m,\u001B[49m\u001B[43m \u001B[49m\u001B[38;5;124;43m\"\u001B[39;49m\u001B[38;5;124;43msort_order\u001B[39;49m\u001B[38;5;124;43m\"\u001B[39;49m\u001B[43m,\u001B[49m\u001B[43m \u001B[49m\u001B[38;5;124;43m\"\u001B[39;49m\u001B[38;5;124;43mstart_time\u001B[39;49m\u001B[38;5;124;43m\"\u001B[39;49m\u001B[43m,\u001B[49m\u001B[43m \u001B[49m\u001B[38;5;124;43m\"\u001B[39;49m\u001B[38;5;124;43mtweet.fields\u001B[39;49m\u001B[38;5;124;43m\"\u001B[39;49m\u001B[43m,\u001B[49m\n\u001B[1;32m   1272\u001B[0m \u001B[43m        \u001B[49m\u001B[38;5;124;43m\"\u001B[39;49m\u001B[38;5;124;43muntil_id\u001B[39;49m\u001B[38;5;124;43m\"\u001B[39;49m\u001B[43m,\u001B[49m\u001B[43m \u001B[49m\u001B[38;5;124;43m\"\u001B[39;49m\u001B[38;5;124;43muser.fields\u001B[39;49m\u001B[38;5;124;43m\"\u001B[39;49m\n\u001B[1;32m   1273\u001B[0m \u001B[43m    \u001B[49m\u001B[43m)\u001B[49m\u001B[43m,\u001B[49m\u001B[43m \u001B[49m\u001B[43mdata_type\u001B[49m\u001B[38;5;241;43m=\u001B[39;49m\u001B[43mTweet\u001B[49m\u001B[43m,\u001B[49m\u001B[43m \u001B[49m\u001B[43muser_auth\u001B[49m\u001B[38;5;241;43m=\u001B[39;49m\u001B[43muser_auth\u001B[49m\n\u001B[1;32m   1274\u001B[0m \u001B[43m\u001B[49m\u001B[43m)\u001B[49m\n",
      "File \u001B[0;32m~/PycharmProjects/EthicalBiasDetectionNLP/.venv/lib/python3.9/site-packages/tweepy/client.py:129\u001B[0m, in \u001B[0;36mBaseClient._make_request\u001B[0;34m(self, method, route, params, endpoint_parameters, json, data_type, user_auth)\u001B[0m\n\u001B[1;32m    127\u001B[0m request_params \u001B[38;5;241m=\u001B[39m \u001B[38;5;28mself\u001B[39m\u001B[38;5;241m.\u001B[39m_process_params(params, endpoint_parameters)\n\u001B[0;32m--> 129\u001B[0m response \u001B[38;5;241m=\u001B[39m \u001B[38;5;28;43mself\u001B[39;49m\u001B[38;5;241;43m.\u001B[39;49m\u001B[43mrequest\u001B[49m\u001B[43m(\u001B[49m\u001B[43mmethod\u001B[49m\u001B[43m,\u001B[49m\u001B[43m \u001B[49m\u001B[43mroute\u001B[49m\u001B[43m,\u001B[49m\u001B[43m \u001B[49m\u001B[43mparams\u001B[49m\u001B[38;5;241;43m=\u001B[39;49m\u001B[43mrequest_params\u001B[49m\u001B[43m,\u001B[49m\n\u001B[1;32m    130\u001B[0m \u001B[43m                        \u001B[49m\u001B[43mjson\u001B[49m\u001B[38;5;241;43m=\u001B[39;49m\u001B[43mjson\u001B[49m\u001B[43m,\u001B[49m\u001B[43m \u001B[49m\u001B[43muser_auth\u001B[49m\u001B[38;5;241;43m=\u001B[39;49m\u001B[43muser_auth\u001B[49m\u001B[43m)\u001B[49m\n\u001B[1;32m    132\u001B[0m \u001B[38;5;28;01mif\u001B[39;00m \u001B[38;5;28mself\u001B[39m\u001B[38;5;241m.\u001B[39mreturn_type \u001B[38;5;129;01mis\u001B[39;00m requests\u001B[38;5;241m.\u001B[39mResponse:\n",
      "File \u001B[0;32m~/PycharmProjects/EthicalBiasDetectionNLP/.venv/lib/python3.9/site-packages/tweepy/client.py:115\u001B[0m, in \u001B[0;36mBaseClient.request\u001B[0;34m(self, method, route, params, json, user_auth)\u001B[0m\n\u001B[1;32m    114\u001B[0m     \u001B[38;5;28;01melse\u001B[39;00m:\n\u001B[0;32m--> 115\u001B[0m         \u001B[38;5;28;01mraise\u001B[39;00m TooManyRequests(response)\n\u001B[1;32m    116\u001B[0m \u001B[38;5;28;01mif\u001B[39;00m response\u001B[38;5;241m.\u001B[39mstatus_code \u001B[38;5;241m>\u001B[39m\u001B[38;5;241m=\u001B[39m \u001B[38;5;241m500\u001B[39m:\n",
      "\u001B[0;31mTooManyRequests\u001B[0m: 429 Too Many Requests\nToo Many Requests",
      "\nDuring handling of the above exception, another exception occurred:\n",
      "\u001B[0;31mKeyboardInterrupt\u001B[0m                         Traceback (most recent call last)",
      "Cell \u001B[0;32mIn[6], line 57\u001B[0m\n\u001B[1;32m     54\u001B[0m         \u001B[38;5;28;01mexcept\u001B[39;00m tweepy\u001B[38;5;241m.\u001B[39mTooManyRequests \u001B[38;5;28;01mas\u001B[39;00m e:\n\u001B[1;32m     55\u001B[0m             \u001B[38;5;66;03m# Wait for the rate limit window to reset\u001B[39;00m\n\u001B[1;32m     56\u001B[0m             \u001B[38;5;28mprint\u001B[39m(\u001B[38;5;124m\"\u001B[39m\u001B[38;5;124mRate limit exceeded, waiting for 15 minutes...\u001B[39m\u001B[38;5;124m\"\u001B[39m)\n\u001B[0;32m---> 57\u001B[0m             \u001B[43mtime\u001B[49m\u001B[38;5;241;43m.\u001B[39;49m\u001B[43msleep\u001B[49m\u001B[43m(\u001B[49m\u001B[38;5;241;43m15\u001B[39;49m\u001B[43m \u001B[49m\u001B[38;5;241;43m*\u001B[39;49m\u001B[43m \u001B[49m\u001B[38;5;241;43m60\u001B[39;49m\u001B[43m)\u001B[49m  \u001B[38;5;66;03m# Wait for 15 minutes\u001B[39;00m\n\u001B[1;32m     59\u001B[0m \u001B[38;5;66;03m# Create DataFrame\u001B[39;00m\n\u001B[1;32m     60\u001B[0m df \u001B[38;5;241m=\u001B[39m pd\u001B[38;5;241m.\u001B[39mDataFrame(tweets_data, columns\u001B[38;5;241m=\u001B[39m[\u001B[38;5;124m\"\u001B[39m\u001B[38;5;124mDate\u001B[39m\u001B[38;5;124m\"\u001B[39m, \u001B[38;5;124m\"\u001B[39m\u001B[38;5;124mUser\u001B[39m\u001B[38;5;124m\"\u001B[39m, \u001B[38;5;124m\"\u001B[39m\u001B[38;5;124mTweet\u001B[39m\u001B[38;5;124m\"\u001B[39m])\n",
      "\u001B[0;31mKeyboardInterrupt\u001B[0m: "
     ]
    }
   ],
   "execution_count": 6
  },
  {
   "metadata": {},
   "cell_type": "code",
   "outputs": [],
   "execution_count": null,
   "source": "",
   "id": "ebe2cb02f8f12011"
  }
 ],
 "metadata": {
  "kernelspec": {
   "display_name": "Python 3",
   "language": "python",
   "name": "python3"
  },
  "language_info": {
   "codemirror_mode": {
    "name": "ipython",
    "version": 2
   },
   "file_extension": ".py",
   "mimetype": "text/x-python",
   "name": "python",
   "nbconvert_exporter": "python",
   "pygments_lexer": "ipython2",
   "version": "2.7.6"
  }
 },
 "nbformat": 4,
 "nbformat_minor": 5
}
