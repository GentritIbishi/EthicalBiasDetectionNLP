{
 "cells": [
  {
   "cell_type": "code",
   "id": "initial_id",
   "metadata": {
    "collapsed": true,
    "ExecuteTime": {
     "end_time": "2024-12-01T14:23:48.558908Z",
     "start_time": "2024-12-01T14:23:38.693695Z"
    }
   },
   "source": [
    "import snscrape.modules.twitter as sntwitter\n",
    "import pandas as pd\n",
    "import time\n",
    "import os\n",
    "\n",
    "# Define the search query with all relevant keywords and categories\n",
    "\n",
    "# General keywords related to Kosovo and Serbia\n",
    "general_keywords = \"Kosovo OR Kosova OR Serbia OR Serb OR Albanians OR Serbs\"\n",
    "\n",
    "# Popular hashtags related to politics and historical events\n",
    "hashtags = \"#Kosovo OR #Serbia OR #KosovoSerbia OR #KosovoConflict OR #KosovoIndependence OR #NATOKosovo OR #KosovoWar\"\n",
    "\n",
    "# Negative and prejudiced terms (hate speech or discriminatory words)\n",
    "negative_keywords = \"terrorist OR occupier OR enemy OR traitor OR backward OR barbaric\"\n",
    "\n",
    "# Keywords in Albanian and Serbian related to Kosovo and Serbia\n",
    "albanian_keywords = \"Kosova OR shqiptarë OR serbë OR pavarësi OR luftë\"\n",
    "serbian_keywords = \"Kosovo OR Srbi OR Albanci OR nezavisnost OR rat\"\n",
    "\n",
    "# Combine all keywords into a single search query\n",
    "keywords = f\"({general_keywords}) OR ({hashtags}) OR ({negative_keywords}) OR ({albanian_keywords}) OR ({serbian_keywords})\"\n",
    "\n",
    "# Define the date range for the search\n",
    "start_date = \"2007-01-01\"\n",
    "end_date = \"2024-01-01\"\n",
    "\n",
    "# Initialize the list to store tweets\n",
    "tweets = []\n",
    "\n",
    "# Perform the search using snscrape\n",
    "try:\n",
    "    for tweet in sntwitter.TwitterSearchScraper(f'{keywords} since:{start_date} until:{end_date} lang:en').get_items():\n",
    "        tweets.append([tweet.date, tweet.user.username, tweet.content])\n",
    "\n",
    "        # Optional: Sleep to avoid hitting rate limits\n",
    "        time.sleep(1)  # 1-second delay between requests to prevent blocking\n",
    "    \n",
    "except Exception as e:\n",
    "    print(f\"Error occurred: {e}\")\n",
    "\n",
    "# Convert the list of tweets to a DataFrame\n",
    "df = pd.DataFrame(tweets, columns=[\"Date\", \"User\", \"Tweet\"])\n",
    "\n",
    "# Ensure the 'dataset' directory exists, if not, create it\n",
    "output_dir = \"../dataset\"\n",
    "if not os.path.exists(output_dir):\n",
    "    os.makedirs(output_dir)\n",
    "\n",
    "# Save the DataFrame to a CSV file in the 'dataset' directory\n",
    "df.to_csv(os.path.join(output_dir, \"historical_tweets.csv\"), index=False)\n",
    "\n",
    "# Optionally, print the DataFrame to verify the collected tweets\n",
    "print(df.head())\n"
   ],
   "outputs": [
    {
     "name": "stderr",
     "output_type": "stream",
     "text": [
      "Error retrieving https://twitter.com/i/api/graphql/7jT5GT59P8IFjgxwqnEdQw/SearchTimeline?variables=%7B%22rawQuery%22%3A%22%28Kosovo%20OR%20Kosova%20OR%20Serbia%20OR%20Serb%20OR%20Albanians%20OR%20Serbs%29%20OR%20%28%23Kosovo%20OR%20%23Serbia%20OR%20%23KosovoSerbia%20OR%20%23KosovoConflict%20OR%20%23KosovoIndependence%20OR%20%23NATOKosovo%20OR%20%23KosovoWar%29%20OR%20%28terrorist%20OR%20occupier%20OR%20enemy%20OR%20traitor%20OR%20backward%20OR%20barbaric%29%20OR%20%28Kosova%20OR%20shqiptar%5Cu00eb%20OR%20serb%5Cu00eb%20OR%20pavar%5Cu00ebsi%20OR%20luft%5Cu00eb%29%20OR%20%28Kosovo%20OR%20Srbi%20OR%20Albanci%20OR%20nezavisnost%20OR%20rat%29%20since%3A2007-01-01%20until%3A2024-01-01%20lang%3Aen%22%2C%22count%22%3A20%2C%22product%22%3A%22Latest%22%2C%22withDownvotePerspective%22%3Afalse%2C%22withReactionsMetadata%22%3Afalse%2C%22withReactionsPerspective%22%3Afalse%7D&features=%7B%22rweb_lists_timeline_redesign_enabled%22%3Afalse%2C%22blue_business_profile_image_shape_enabled%22%3Afalse%2C%22responsive_web_graphql_exclude_directive_enabled%22%3Atrue%2C%22verified_phone_label_enabled%22%3Afalse%2C%22creator_subscriptions_tweet_preview_api_enabled%22%3Afalse%2C%22responsive_web_graphql_timeline_navigation_enabled%22%3Atrue%2C%22responsive_web_graphql_skip_user_profile_image_extensions_enabled%22%3Afalse%2C%22tweetypie_unmention_optimization_enabled%22%3Atrue%2C%22vibe_api_enabled%22%3Atrue%2C%22responsive_web_edit_tweet_api_enabled%22%3Atrue%2C%22graphql_is_translatable_rweb_tweet_is_translatable_enabled%22%3Atrue%2C%22view_counts_everywhere_api_enabled%22%3Atrue%2C%22longform_notetweets_consumption_enabled%22%3Atrue%2C%22tweet_awards_web_tipping_enabled%22%3Afalse%2C%22freedom_of_speech_not_reach_fetch_enabled%22%3Afalse%2C%22standardized_nudges_misinfo%22%3Atrue%2C%22tweet_with_visibility_results_prefer_gql_limited_actions_policy_enabled%22%3Afalse%2C%22interactive_text_enabled%22%3Atrue%2C%22responsive_web_text_conversations_enabled%22%3Afalse%2C%22longform_notetweets_rich_text_read_enabled%22%3Afalse%2C%22longform_notetweets_inline_media_enabled%22%3Afalse%2C%22responsive_web_enhance_cards_enabled%22%3Afalse%2C%22responsive_web_twitter_blue_verified_badge_is_enabled%22%3Atrue%7D: blocked (404)\n",
      "4 requests to https://twitter.com/i/api/graphql/7jT5GT59P8IFjgxwqnEdQw/SearchTimeline?variables=%7B%22rawQuery%22%3A%22%28Kosovo%20OR%20Kosova%20OR%20Serbia%20OR%20Serb%20OR%20Albanians%20OR%20Serbs%29%20OR%20%28%23Kosovo%20OR%20%23Serbia%20OR%20%23KosovoSerbia%20OR%20%23KosovoConflict%20OR%20%23KosovoIndependence%20OR%20%23NATOKosovo%20OR%20%23KosovoWar%29%20OR%20%28terrorist%20OR%20occupier%20OR%20enemy%20OR%20traitor%20OR%20backward%20OR%20barbaric%29%20OR%20%28Kosova%20OR%20shqiptar%5Cu00eb%20OR%20serb%5Cu00eb%20OR%20pavar%5Cu00ebsi%20OR%20luft%5Cu00eb%29%20OR%20%28Kosovo%20OR%20Srbi%20OR%20Albanci%20OR%20nezavisnost%20OR%20rat%29%20since%3A2007-01-01%20until%3A2024-01-01%20lang%3Aen%22%2C%22count%22%3A20%2C%22product%22%3A%22Latest%22%2C%22withDownvotePerspective%22%3Afalse%2C%22withReactionsMetadata%22%3Afalse%2C%22withReactionsPerspective%22%3Afalse%7D&features=%7B%22rweb_lists_timeline_redesign_enabled%22%3Afalse%2C%22blue_business_profile_image_shape_enabled%22%3Afalse%2C%22responsive_web_graphql_exclude_directive_enabled%22%3Atrue%2C%22verified_phone_label_enabled%22%3Afalse%2C%22creator_subscriptions_tweet_preview_api_enabled%22%3Afalse%2C%22responsive_web_graphql_timeline_navigation_enabled%22%3Atrue%2C%22responsive_web_graphql_skip_user_profile_image_extensions_enabled%22%3Afalse%2C%22tweetypie_unmention_optimization_enabled%22%3Atrue%2C%22vibe_api_enabled%22%3Atrue%2C%22responsive_web_edit_tweet_api_enabled%22%3Atrue%2C%22graphql_is_translatable_rweb_tweet_is_translatable_enabled%22%3Atrue%2C%22view_counts_everywhere_api_enabled%22%3Atrue%2C%22longform_notetweets_consumption_enabled%22%3Atrue%2C%22tweet_awards_web_tipping_enabled%22%3Afalse%2C%22freedom_of_speech_not_reach_fetch_enabled%22%3Afalse%2C%22standardized_nudges_misinfo%22%3Atrue%2C%22tweet_with_visibility_results_prefer_gql_limited_actions_policy_enabled%22%3Afalse%2C%22interactive_text_enabled%22%3Atrue%2C%22responsive_web_text_conversations_enabled%22%3Afalse%2C%22longform_notetweets_rich_text_read_enabled%22%3Afalse%2C%22longform_notetweets_inline_media_enabled%22%3Afalse%2C%22responsive_web_enhance_cards_enabled%22%3Afalse%2C%22responsive_web_twitter_blue_verified_badge_is_enabled%22%3Atrue%7D failed, giving up.\n",
      "Errors: blocked (404), blocked (404), blocked (404), blocked (404)\n"
     ]
    },
    {
     "name": "stdout",
     "output_type": "stream",
     "text": [
      "Error occurred: 4 requests to https://twitter.com/i/api/graphql/7jT5GT59P8IFjgxwqnEdQw/SearchTimeline?variables=%7B%22rawQuery%22%3A%22%28Kosovo%20OR%20Kosova%20OR%20Serbia%20OR%20Serb%20OR%20Albanians%20OR%20Serbs%29%20OR%20%28%23Kosovo%20OR%20%23Serbia%20OR%20%23KosovoSerbia%20OR%20%23KosovoConflict%20OR%20%23KosovoIndependence%20OR%20%23NATOKosovo%20OR%20%23KosovoWar%29%20OR%20%28terrorist%20OR%20occupier%20OR%20enemy%20OR%20traitor%20OR%20backward%20OR%20barbaric%29%20OR%20%28Kosova%20OR%20shqiptar%5Cu00eb%20OR%20serb%5Cu00eb%20OR%20pavar%5Cu00ebsi%20OR%20luft%5Cu00eb%29%20OR%20%28Kosovo%20OR%20Srbi%20OR%20Albanci%20OR%20nezavisnost%20OR%20rat%29%20since%3A2007-01-01%20until%3A2024-01-01%20lang%3Aen%22%2C%22count%22%3A20%2C%22product%22%3A%22Latest%22%2C%22withDownvotePerspective%22%3Afalse%2C%22withReactionsMetadata%22%3Afalse%2C%22withReactionsPerspective%22%3Afalse%7D&features=%7B%22rweb_lists_timeline_redesign_enabled%22%3Afalse%2C%22blue_business_profile_image_shape_enabled%22%3Afalse%2C%22responsive_web_graphql_exclude_directive_enabled%22%3Atrue%2C%22verified_phone_label_enabled%22%3Afalse%2C%22creator_subscriptions_tweet_preview_api_enabled%22%3Afalse%2C%22responsive_web_graphql_timeline_navigation_enabled%22%3Atrue%2C%22responsive_web_graphql_skip_user_profile_image_extensions_enabled%22%3Afalse%2C%22tweetypie_unmention_optimization_enabled%22%3Atrue%2C%22vibe_api_enabled%22%3Atrue%2C%22responsive_web_edit_tweet_api_enabled%22%3Atrue%2C%22graphql_is_translatable_rweb_tweet_is_translatable_enabled%22%3Atrue%2C%22view_counts_everywhere_api_enabled%22%3Atrue%2C%22longform_notetweets_consumption_enabled%22%3Atrue%2C%22tweet_awards_web_tipping_enabled%22%3Afalse%2C%22freedom_of_speech_not_reach_fetch_enabled%22%3Afalse%2C%22standardized_nudges_misinfo%22%3Atrue%2C%22tweet_with_visibility_results_prefer_gql_limited_actions_policy_enabled%22%3Afalse%2C%22interactive_text_enabled%22%3Atrue%2C%22responsive_web_text_conversations_enabled%22%3Afalse%2C%22longform_notetweets_rich_text_read_enabled%22%3Afalse%2C%22longform_notetweets_inline_media_enabled%22%3Afalse%2C%22responsive_web_enhance_cards_enabled%22%3Afalse%2C%22responsive_web_twitter_blue_verified_badge_is_enabled%22%3Atrue%7D failed, giving up.\n",
      "Empty DataFrame\n",
      "Columns: [Date, User, Tweet]\n",
      "Index: []\n"
     ]
    }
   ],
   "execution_count": 7
  },
  {
   "metadata": {},
   "cell_type": "code",
   "outputs": [],
   "execution_count": null,
   "source": "",
   "id": "fafde3e8a5b3c1bc"
  }
 ],
 "metadata": {
  "kernelspec": {
   "display_name": "Python 3",
   "language": "python",
   "name": "python3"
  },
  "language_info": {
   "codemirror_mode": {
    "name": "ipython",
    "version": 2
   },
   "file_extension": ".py",
   "mimetype": "text/x-python",
   "name": "python",
   "nbconvert_exporter": "python",
   "pygments_lexer": "ipython2",
   "version": "2.7.6"
  }
 },
 "nbformat": 4,
 "nbformat_minor": 5
}
